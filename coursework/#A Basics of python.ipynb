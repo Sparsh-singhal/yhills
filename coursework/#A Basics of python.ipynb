{
 "cells": [
  {
   "cell_type": "code",
   "execution_count": null,
   "id": "4bb962df",
   "metadata": {},
   "outputs": [],
   "source": [
    "print('Hello world')"
   ]
  },
  {
   "cell_type": "markdown",
   "id": "fc1a787e",
   "metadata": {},
   "source": [
    "### Data types"
   ]
  },
  {
   "cell_type": "code",
   "execution_count": null,
   "id": "fd60fb6d",
   "metadata": {},
   "outputs": [],
   "source": [
    "a = 10\n",
    "type(a)"
   ]
  },
  {
   "cell_type": "code",
   "execution_count": null,
   "id": "a6ee97fc",
   "metadata": {},
   "outputs": [],
   "source": [
    "b = 10.8\n",
    "type(b)"
   ]
  },
  {
   "cell_type": "code",
   "execution_count": null,
   "id": "c9eed29b",
   "metadata": {},
   "outputs": [],
   "source": [
    "c = 'machine learning'\n",
    "type(c)"
   ]
  },
  {
   "cell_type": "code",
   "execution_count": null,
   "id": "0244a73c",
   "metadata": {},
   "outputs": [],
   "source": [
    "d = True\n",
    "type(d)"
   ]
  },
  {
   "cell_type": "code",
   "execution_count": null,
   "id": "64fb5f39",
   "metadata": {},
   "outputs": [],
   "source": [
    "e = 1-2j\n",
    "type(e)"
   ]
  },
  {
   "cell_type": "code",
   "execution_count": null,
   "id": "05a6e5ad",
   "metadata": {},
   "outputs": [],
   "source": [
    "f = False\n",
    "type(f)"
   ]
  },
  {
   "cell_type": "markdown",
   "id": "e149f642",
   "metadata": {},
   "source": [
    "### Rules for naming the variables"
   ]
  },
  {
   "cell_type": "code",
   "execution_count": null,
   "id": "8a8e08f9",
   "metadata": {},
   "outputs": [],
   "source": [
    "x = 1456.24;\n",
    "print(x)\n",
    "type(x)"
   ]
  },
  {
   "cell_type": "code",
   "execution_count": null,
   "id": "2d97ecf7",
   "metadata": {},
   "outputs": [],
   "source": [
    "sample_dict = {\"a\":\"alpha\", 5:\"first\", 2:\"second\", 7:\"third\", 1:\"fourth\", 5:\"fourth\", 6:\"sixth\"}"
   ]
  },
  {
   "cell_type": "code",
   "execution_count": null,
   "id": "89687a92",
   "metadata": {},
   "outputs": [],
   "source": [
    "sample_dict"
   ]
  },
  {
   "cell_type": "code",
   "execution_count": null,
   "id": "50e05edd",
   "metadata": {},
   "outputs": [],
   "source": [
    "sample_dict[5]"
   ]
  }
 ],
 "metadata": {
  "kernelspec": {
   "display_name": "Python 3 (ipykernel)",
   "language": "python",
   "name": "python3"
  },
  "language_info": {
   "codemirror_mode": {
    "name": "ipython",
    "version": 3
   },
   "file_extension": ".py",
   "mimetype": "text/x-python",
   "name": "python",
   "nbconvert_exporter": "python",
   "pygments_lexer": "ipython3",
   "version": "3.9.7"
  }
 },
 "nbformat": 4,
 "nbformat_minor": 5
}
